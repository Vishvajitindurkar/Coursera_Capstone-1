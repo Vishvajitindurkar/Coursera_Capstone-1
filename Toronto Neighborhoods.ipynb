{
    "nbformat_minor": 1, 
    "cells": [
        {
            "source": "<center> <h1>Segmenting and Clustering Neighborhoods in Toronto </h1></center>", 
            "cell_type": "markdown", 
            "metadata": {
                "collapsed": true
            }
        }, 
        {
            "source": "Scraped the following Wikipedia page, https://en.wikipedia.org/wiki/List_of_postal_codes_of_Canada:_M, in order to obtain the data about the Toronto & the Neighborhoods in it.\n\n<u> Assumptions made to attain the below DataFrame:</u>\n<li>Dataframe will consist of three columns: PostalCode, Borough, and Neighborhood</li>\n<li>Only the cells that have an assigned borough will be processed. Borough that is not assigned are ignored.</li>\n<li>More than one neighborhood can exist in one postal code area. For example, in the table on the Wikipedia page, you will notice that M5A is listed twice and has two neighborhoods: Harbourfront and Regent Park. These two rows will be combined into one row with the neighborhoods separated with a comma as shown in row 11 in the above table.</li>\n<li>If a cell has a borough but a Not assigned neighborhood, then the neighborhood will be the same as the borough.</li>\n\nBeautifulSoup - package is used to scrape the data from wiki.", 
            "cell_type": "markdown", 
            "metadata": {}
        }, 
        {
            "execution_count": 4, 
            "cell_type": "code", 
            "metadata": {}, 
            "outputs": [], 
            "source": "import pandas as pd\nimport numpy as np\nfrom bs4 import BeautifulSoup\nimport requests"
        }, 
        {
            "source": "<h2>Part-1: extracting raw table from webpage and converting it into Dataframe </h2>", 
            "cell_type": "markdown", 
            "metadata": {}
        }, 
        {
            "execution_count": 17, 
            "cell_type": "code", 
            "metadata": {}, 
            "outputs": [
                {
                    "output_type": "stream", 
                    "name": "stdout", 
                    "text": "Solving environment: done\n\n# All requested packages already installed.\n\n"
                }
            ], 
            "source": "!conda install -c conda-forge wikipedia --yes \n"
        }, 
        {
            "execution_count": 39, 
            "cell_type": "code", 
            "metadata": {}, 
            "outputs": [
                {
                    "execution_count": 39, 
                    "metadata": {}, 
                    "data": {
                        "text/html": "<div>\n<style scoped>\n    .dataframe tbody tr th:only-of-type {\n        vertical-align: middle;\n    }\n\n    .dataframe tbody tr th {\n        vertical-align: top;\n    }\n\n    .dataframe thead th {\n        text-align: right;\n    }\n</style>\n<table border=\"1\" class=\"dataframe\">\n  <thead>\n    <tr style=\"text-align: right;\">\n      <th></th>\n      <th>Postcode</th>\n      <th>Borough</th>\n      <th>Neighbourhood</th>\n    </tr>\n  </thead>\n  <tbody>\n    <tr>\n      <th>0</th>\n      <td>M1A</td>\n      <td>Not assigned</td>\n      <td>Not assigned</td>\n    </tr>\n    <tr>\n      <th>1</th>\n      <td>M2A</td>\n      <td>Not assigned</td>\n      <td>Not assigned</td>\n    </tr>\n    <tr>\n      <th>2</th>\n      <td>M3A</td>\n      <td>North York</td>\n      <td>Parkwoods</td>\n    </tr>\n    <tr>\n      <th>3</th>\n      <td>M4A</td>\n      <td>North York</td>\n      <td>Victoria Village</td>\n    </tr>\n    <tr>\n      <th>4</th>\n      <td>M5A</td>\n      <td>Downtown Toronto</td>\n      <td>Harbourfront</td>\n    </tr>\n  </tbody>\n</table>\n</div>", 
                        "text/plain": "  Postcode           Borough     Neighbourhood\n0      M1A      Not assigned      Not assigned\n1      M2A      Not assigned      Not assigned\n2      M3A        North York         Parkwoods\n3      M4A        North York  Victoria Village\n4      M5A  Downtown Toronto      Harbourfront"
                    }, 
                    "output_type": "execute_result"
                }
            ], 
            "source": "import wikipedia as wp\n\nhtml = wp.page(\"List of postal codes of Canada: M\").html().encode(\"UTF-8\")\ndf = pd.read_html(html, header = 0)[0]\ndf.head()"
        }, 
        {
            "execution_count": 40, 
            "cell_type": "code", 
            "metadata": {}, 
            "outputs": [
                {
                    "execution_count": 40, 
                    "metadata": {}, 
                    "data": {
                        "text/html": "<div>\n<style scoped>\n    .dataframe tbody tr th:only-of-type {\n        vertical-align: middle;\n    }\n\n    .dataframe tbody tr th {\n        vertical-align: top;\n    }\n\n    .dataframe thead th {\n        text-align: right;\n    }\n</style>\n<table border=\"1\" class=\"dataframe\">\n  <thead>\n    <tr style=\"text-align: right;\">\n      <th></th>\n      <th>Postcode</th>\n      <th>Borough</th>\n      <th>Neighbourhood</th>\n    </tr>\n  </thead>\n  <tbody>\n    <tr>\n      <th>2</th>\n      <td>M3A</td>\n      <td>North York</td>\n      <td>Parkwoods</td>\n    </tr>\n    <tr>\n      <th>3</th>\n      <td>M4A</td>\n      <td>North York</td>\n      <td>Victoria Village</td>\n    </tr>\n    <tr>\n      <th>4</th>\n      <td>M5A</td>\n      <td>Downtown Toronto</td>\n      <td>Harbourfront</td>\n    </tr>\n    <tr>\n      <th>5</th>\n      <td>M5A</td>\n      <td>Downtown Toronto</td>\n      <td>Regent Park</td>\n    </tr>\n    <tr>\n      <th>6</th>\n      <td>M6A</td>\n      <td>North York</td>\n      <td>Lawrence Heights</td>\n    </tr>\n  </tbody>\n</table>\n</div>", 
                        "text/plain": "  Postcode           Borough     Neighbourhood\n2      M3A        North York         Parkwoods\n3      M4A        North York  Victoria Village\n4      M5A  Downtown Toronto      Harbourfront\n5      M5A  Downtown Toronto       Regent Park\n6      M6A        North York  Lawrence Heights"
                    }, 
                    "output_type": "execute_result"
                }
            ], 
            "source": "df = df[df.Borough != 'Not assigned']\ndf.head()"
        }, 
        {
            "execution_count": 41, 
            "cell_type": "code", 
            "metadata": {}, 
            "outputs": [
                {
                    "execution_count": 41, 
                    "metadata": {}, 
                    "data": {
                        "text/html": "<div>\n<style scoped>\n    .dataframe tbody tr th:only-of-type {\n        vertical-align: middle;\n    }\n\n    .dataframe tbody tr th {\n        vertical-align: top;\n    }\n\n    .dataframe thead th {\n        text-align: right;\n    }\n</style>\n<table border=\"1\" class=\"dataframe\">\n  <thead>\n    <tr style=\"text-align: right;\">\n      <th></th>\n      <th>Borough</th>\n      <th>Postcode</th>\n      <th>Neighbourhood</th>\n    </tr>\n  </thead>\n  <tbody>\n    <tr>\n      <th>0</th>\n      <td>Central Toronto</td>\n      <td>M4N</td>\n      <td>Lawrence Park</td>\n    </tr>\n    <tr>\n      <th>1</th>\n      <td>Central Toronto</td>\n      <td>M4P</td>\n      <td>Davisville North</td>\n    </tr>\n    <tr>\n      <th>2</th>\n      <td>Central Toronto</td>\n      <td>M4R</td>\n      <td>North Toronto West</td>\n    </tr>\n    <tr>\n      <th>3</th>\n      <td>Central Toronto</td>\n      <td>M4S</td>\n      <td>Davisville</td>\n    </tr>\n    <tr>\n      <th>4</th>\n      <td>Central Toronto</td>\n      <td>M4T</td>\n      <td>Moore Park, Summerhill East</td>\n    </tr>\n  </tbody>\n</table>\n</div>", 
                        "text/plain": "           Borough Postcode                Neighbourhood\n0  Central Toronto      M4N                Lawrence Park\n1  Central Toronto      M4P             Davisville North\n2  Central Toronto      M4R           North Toronto West\n3  Central Toronto      M4S                   Davisville\n4  Central Toronto      M4T  Moore Park, Summerhill East"
                    }, 
                    "output_type": "execute_result"
                }
            ], 
            "source": "df = df.groupby(['Borough', 'Postcode'])['Neighbourhood'].apply(list).apply(lambda x:', '.join(x)).to_frame().reset_index()\ndf.head()"
        }, 
        {
            "execution_count": 43, 
            "cell_type": "code", 
            "metadata": {}, 
            "outputs": [
                {
                    "execution_count": 43, 
                    "metadata": {}, 
                    "data": {
                        "text/html": "<div>\n<style scoped>\n    .dataframe tbody tr th:only-of-type {\n        vertical-align: middle;\n    }\n\n    .dataframe tbody tr th {\n        vertical-align: top;\n    }\n\n    .dataframe thead th {\n        text-align: right;\n    }\n</style>\n<table border=\"1\" class=\"dataframe\">\n  <thead>\n    <tr style=\"text-align: right;\">\n      <th></th>\n      <th>Borough</th>\n      <th>Postcode</th>\n      <th>Neighbourhood</th>\n    </tr>\n  </thead>\n  <tbody>\n    <tr>\n      <th>0</th>\n      <td>Central Toronto</td>\n      <td>M4N</td>\n      <td>Lawrence Park</td>\n    </tr>\n    <tr>\n      <th>1</th>\n      <td>Central Toronto</td>\n      <td>M4P</td>\n      <td>Davisville North</td>\n    </tr>\n    <tr>\n      <th>2</th>\n      <td>Central Toronto</td>\n      <td>M4R</td>\n      <td>North Toronto West</td>\n    </tr>\n    <tr>\n      <th>3</th>\n      <td>Central Toronto</td>\n      <td>M4S</td>\n      <td>Davisville</td>\n    </tr>\n    <tr>\n      <th>4</th>\n      <td>Central Toronto</td>\n      <td>M4T</td>\n      <td>Moore Park, Summerhill East</td>\n    </tr>\n    <tr>\n      <th>5</th>\n      <td>Central Toronto</td>\n      <td>M4V</td>\n      <td>Deer Park, Forest Hill SE, Rathnelly, South Hi...</td>\n    </tr>\n    <tr>\n      <th>6</th>\n      <td>Central Toronto</td>\n      <td>M5N</td>\n      <td>Roselawn</td>\n    </tr>\n    <tr>\n      <th>7</th>\n      <td>Central Toronto</td>\n      <td>M5P</td>\n      <td>Forest Hill North, Forest Hill West</td>\n    </tr>\n    <tr>\n      <th>8</th>\n      <td>Central Toronto</td>\n      <td>M5R</td>\n      <td>The Annex, North Midtown, Yorkville</td>\n    </tr>\n    <tr>\n      <th>9</th>\n      <td>Downtown Toronto</td>\n      <td>M4W</td>\n      <td>Rosedale</td>\n    </tr>\n    <tr>\n      <th>10</th>\n      <td>Downtown Toronto</td>\n      <td>M4X</td>\n      <td>Cabbagetown, St. James Town</td>\n    </tr>\n    <tr>\n      <th>11</th>\n      <td>Downtown Toronto</td>\n      <td>M4Y</td>\n      <td>Church and Wellesley</td>\n    </tr>\n    <tr>\n      <th>12</th>\n      <td>Downtown Toronto</td>\n      <td>M5A</td>\n      <td>Harbourfront, Regent Park</td>\n    </tr>\n    <tr>\n      <th>13</th>\n      <td>Downtown Toronto</td>\n      <td>M5B</td>\n      <td>Ryerson, Garden District</td>\n    </tr>\n    <tr>\n      <th>14</th>\n      <td>Downtown Toronto</td>\n      <td>M5C</td>\n      <td>St. James Town</td>\n    </tr>\n    <tr>\n      <th>15</th>\n      <td>Downtown Toronto</td>\n      <td>M5E</td>\n      <td>Berczy Park</td>\n    </tr>\n    <tr>\n      <th>16</th>\n      <td>Downtown Toronto</td>\n      <td>M5G</td>\n      <td>Central Bay Street</td>\n    </tr>\n    <tr>\n      <th>17</th>\n      <td>Downtown Toronto</td>\n      <td>M5H</td>\n      <td>Adelaide, King, Richmond</td>\n    </tr>\n    <tr>\n      <th>18</th>\n      <td>Downtown Toronto</td>\n      <td>M5J</td>\n      <td>Harbourfront East, Toronto Islands, Union Station</td>\n    </tr>\n    <tr>\n      <th>19</th>\n      <td>Downtown Toronto</td>\n      <td>M5K</td>\n      <td>Design Exchange, Toronto Dominion Centre</td>\n    </tr>\n    <tr>\n      <th>20</th>\n      <td>Downtown Toronto</td>\n      <td>M5L</td>\n      <td>Commerce Court, Victoria Hotel</td>\n    </tr>\n    <tr>\n      <th>21</th>\n      <td>Downtown Toronto</td>\n      <td>M5S</td>\n      <td>Harbord, University of Toronto</td>\n    </tr>\n    <tr>\n      <th>22</th>\n      <td>Downtown Toronto</td>\n      <td>M5T</td>\n      <td>Chinatown, Grange Park, Kensington Market</td>\n    </tr>\n    <tr>\n      <th>23</th>\n      <td>Downtown Toronto</td>\n      <td>M5V</td>\n      <td>CN Tower, Bathurst Quay, Island airport, Harbo...</td>\n    </tr>\n    <tr>\n      <th>24</th>\n      <td>Downtown Toronto</td>\n      <td>M5W</td>\n      <td>Stn A PO Boxes 25 The Esplanade</td>\n    </tr>\n    <tr>\n      <th>25</th>\n      <td>Downtown Toronto</td>\n      <td>M5X</td>\n      <td>First Canadian Place, Underground city</td>\n    </tr>\n    <tr>\n      <th>26</th>\n      <td>Downtown Toronto</td>\n      <td>M6G</td>\n      <td>Christie</td>\n    </tr>\n    <tr>\n      <th>27</th>\n      <td>East Toronto</td>\n      <td>M4E</td>\n      <td>The Beaches</td>\n    </tr>\n    <tr>\n      <th>28</th>\n      <td>East Toronto</td>\n      <td>M4K</td>\n      <td>The Danforth West, Riverdale</td>\n    </tr>\n    <tr>\n      <th>29</th>\n      <td>East Toronto</td>\n      <td>M4L</td>\n      <td>The Beaches West, India Bazaar</td>\n    </tr>\n    <tr>\n      <th>...</th>\n      <td>...</td>\n      <td>...</td>\n      <td>...</td>\n    </tr>\n    <tr>\n      <th>73</th>\n      <td>North York</td>\n      <td>M9M</td>\n      <td>Emery, Humberlea</td>\n    </tr>\n    <tr>\n      <th>74</th>\n      <td>Queen's Park</td>\n      <td>M7A</td>\n      <td>Not assigned</td>\n    </tr>\n    <tr>\n      <th>75</th>\n      <td>Scarborough</td>\n      <td>M1B</td>\n      <td>Rouge, Malvern</td>\n    </tr>\n    <tr>\n      <th>76</th>\n      <td>Scarborough</td>\n      <td>M1C</td>\n      <td>Highland Creek, Rouge Hill, Port Union</td>\n    </tr>\n    <tr>\n      <th>77</th>\n      <td>Scarborough</td>\n      <td>M1E</td>\n      <td>Guildwood, Morningside, West Hill</td>\n    </tr>\n    <tr>\n      <th>78</th>\n      <td>Scarborough</td>\n      <td>M1G</td>\n      <td>Woburn</td>\n    </tr>\n    <tr>\n      <th>79</th>\n      <td>Scarborough</td>\n      <td>M1H</td>\n      <td>Cedarbrae</td>\n    </tr>\n    <tr>\n      <th>80</th>\n      <td>Scarborough</td>\n      <td>M1J</td>\n      <td>Scarborough Village</td>\n    </tr>\n    <tr>\n      <th>81</th>\n      <td>Scarborough</td>\n      <td>M1K</td>\n      <td>East Birchmount Park, Ionview, Kennedy Park</td>\n    </tr>\n    <tr>\n      <th>82</th>\n      <td>Scarborough</td>\n      <td>M1L</td>\n      <td>Clairlea, Golden Mile, Oakridge</td>\n    </tr>\n    <tr>\n      <th>83</th>\n      <td>Scarborough</td>\n      <td>M1M</td>\n      <td>Cliffcrest, Cliffside, Scarborough Village West</td>\n    </tr>\n    <tr>\n      <th>84</th>\n      <td>Scarborough</td>\n      <td>M1N</td>\n      <td>Birch Cliff, Cliffside West</td>\n    </tr>\n    <tr>\n      <th>85</th>\n      <td>Scarborough</td>\n      <td>M1P</td>\n      <td>Dorset Park, Scarborough Town Centre, Wexford ...</td>\n    </tr>\n    <tr>\n      <th>86</th>\n      <td>Scarborough</td>\n      <td>M1R</td>\n      <td>Maryvale, Wexford</td>\n    </tr>\n    <tr>\n      <th>87</th>\n      <td>Scarborough</td>\n      <td>M1S</td>\n      <td>Agincourt</td>\n    </tr>\n    <tr>\n      <th>88</th>\n      <td>Scarborough</td>\n      <td>M1T</td>\n      <td>Clarks Corners, Sullivan, Tam O'Shanter</td>\n    </tr>\n    <tr>\n      <th>89</th>\n      <td>Scarborough</td>\n      <td>M1V</td>\n      <td>Agincourt North, L'Amoreaux East, Milliken, St...</td>\n    </tr>\n    <tr>\n      <th>90</th>\n      <td>Scarborough</td>\n      <td>M1W</td>\n      <td>L'Amoreaux West</td>\n    </tr>\n    <tr>\n      <th>91</th>\n      <td>Scarborough</td>\n      <td>M1X</td>\n      <td>Upper Rouge</td>\n    </tr>\n    <tr>\n      <th>92</th>\n      <td>West Toronto</td>\n      <td>M6H</td>\n      <td>Dovercourt Village, Dufferin</td>\n    </tr>\n    <tr>\n      <th>93</th>\n      <td>West Toronto</td>\n      <td>M6J</td>\n      <td>Little Portugal, Trinity</td>\n    </tr>\n    <tr>\n      <th>94</th>\n      <td>West Toronto</td>\n      <td>M6K</td>\n      <td>Brockton, Exhibition Place, Parkdale Village</td>\n    </tr>\n    <tr>\n      <th>95</th>\n      <td>West Toronto</td>\n      <td>M6P</td>\n      <td>High Park, The Junction South</td>\n    </tr>\n    <tr>\n      <th>96</th>\n      <td>West Toronto</td>\n      <td>M6R</td>\n      <td>Parkdale, Roncesvalles</td>\n    </tr>\n    <tr>\n      <th>97</th>\n      <td>West Toronto</td>\n      <td>M6S</td>\n      <td>Runnymede, Swansea</td>\n    </tr>\n    <tr>\n      <th>98</th>\n      <td>York</td>\n      <td>M6C</td>\n      <td>Humewood-Cedarvale</td>\n    </tr>\n    <tr>\n      <th>99</th>\n      <td>York</td>\n      <td>M6E</td>\n      <td>Caledonia-Fairbanks</td>\n    </tr>\n    <tr>\n      <th>100</th>\n      <td>York</td>\n      <td>M6M</td>\n      <td>Del Ray, Keelesdale, Mount Dennis, Silverthorn</td>\n    </tr>\n    <tr>\n      <th>101</th>\n      <td>York</td>\n      <td>M6N</td>\n      <td>The Junction North, Runnymede</td>\n    </tr>\n    <tr>\n      <th>102</th>\n      <td>York</td>\n      <td>M9N</td>\n      <td>Weston</td>\n    </tr>\n  </tbody>\n</table>\n<p>103 rows \u00d7 3 columns</p>\n</div>", 
                        "text/plain": "              Borough Postcode  \\\n0     Central Toronto      M4N   \n1     Central Toronto      M4P   \n2     Central Toronto      M4R   \n3     Central Toronto      M4S   \n4     Central Toronto      M4T   \n5     Central Toronto      M4V   \n6     Central Toronto      M5N   \n7     Central Toronto      M5P   \n8     Central Toronto      M5R   \n9    Downtown Toronto      M4W   \n10   Downtown Toronto      M4X   \n11   Downtown Toronto      M4Y   \n12   Downtown Toronto      M5A   \n13   Downtown Toronto      M5B   \n14   Downtown Toronto      M5C   \n15   Downtown Toronto      M5E   \n16   Downtown Toronto      M5G   \n17   Downtown Toronto      M5H   \n18   Downtown Toronto      M5J   \n19   Downtown Toronto      M5K   \n20   Downtown Toronto      M5L   \n21   Downtown Toronto      M5S   \n22   Downtown Toronto      M5T   \n23   Downtown Toronto      M5V   \n24   Downtown Toronto      M5W   \n25   Downtown Toronto      M5X   \n26   Downtown Toronto      M6G   \n27       East Toronto      M4E   \n28       East Toronto      M4K   \n29       East Toronto      M4L   \n..                ...      ...   \n73         North York      M9M   \n74       Queen's Park      M7A   \n75        Scarborough      M1B   \n76        Scarborough      M1C   \n77        Scarborough      M1E   \n78        Scarborough      M1G   \n79        Scarborough      M1H   \n80        Scarborough      M1J   \n81        Scarborough      M1K   \n82        Scarborough      M1L   \n83        Scarborough      M1M   \n84        Scarborough      M1N   \n85        Scarborough      M1P   \n86        Scarborough      M1R   \n87        Scarborough      M1S   \n88        Scarborough      M1T   \n89        Scarborough      M1V   \n90        Scarborough      M1W   \n91        Scarborough      M1X   \n92       West Toronto      M6H   \n93       West Toronto      M6J   \n94       West Toronto      M6K   \n95       West Toronto      M6P   \n96       West Toronto      M6R   \n97       West Toronto      M6S   \n98               York      M6C   \n99               York      M6E   \n100              York      M6M   \n101              York      M6N   \n102              York      M9N   \n\n                                         Neighbourhood  \n0                                        Lawrence Park  \n1                                     Davisville North  \n2                                   North Toronto West  \n3                                           Davisville  \n4                          Moore Park, Summerhill East  \n5    Deer Park, Forest Hill SE, Rathnelly, South Hi...  \n6                                             Roselawn  \n7                  Forest Hill North, Forest Hill West  \n8                  The Annex, North Midtown, Yorkville  \n9                                             Rosedale  \n10                         Cabbagetown, St. James Town  \n11                                Church and Wellesley  \n12                           Harbourfront, Regent Park  \n13                            Ryerson, Garden District  \n14                                      St. James Town  \n15                                         Berczy Park  \n16                                  Central Bay Street  \n17                            Adelaide, King, Richmond  \n18   Harbourfront East, Toronto Islands, Union Station  \n19            Design Exchange, Toronto Dominion Centre  \n20                      Commerce Court, Victoria Hotel  \n21                      Harbord, University of Toronto  \n22           Chinatown, Grange Park, Kensington Market  \n23   CN Tower, Bathurst Quay, Island airport, Harbo...  \n24                     Stn A PO Boxes 25 The Esplanade  \n25              First Canadian Place, Underground city  \n26                                            Christie  \n27                                         The Beaches  \n28                        The Danforth West, Riverdale  \n29                      The Beaches West, India Bazaar  \n..                                                 ...  \n73                                    Emery, Humberlea  \n74                                        Not assigned  \n75                                      Rouge, Malvern  \n76              Highland Creek, Rouge Hill, Port Union  \n77                   Guildwood, Morningside, West Hill  \n78                                              Woburn  \n79                                           Cedarbrae  \n80                                 Scarborough Village  \n81         East Birchmount Park, Ionview, Kennedy Park  \n82                     Clairlea, Golden Mile, Oakridge  \n83     Cliffcrest, Cliffside, Scarborough Village West  \n84                         Birch Cliff, Cliffside West  \n85   Dorset Park, Scarborough Town Centre, Wexford ...  \n86                                   Maryvale, Wexford  \n87                                           Agincourt  \n88             Clarks Corners, Sullivan, Tam O'Shanter  \n89   Agincourt North, L'Amoreaux East, Milliken, St...  \n90                                     L'Amoreaux West  \n91                                         Upper Rouge  \n92                        Dovercourt Village, Dufferin  \n93                            Little Portugal, Trinity  \n94        Brockton, Exhibition Place, Parkdale Village  \n95                       High Park, The Junction South  \n96                              Parkdale, Roncesvalles  \n97                                  Runnymede, Swansea  \n98                                  Humewood-Cedarvale  \n99                                 Caledonia-Fairbanks  \n100     Del Ray, Keelesdale, Mount Dennis, Silverthorn  \n101                      The Junction North, Runnymede  \n102                                             Weston  \n\n[103 rows x 3 columns]"
                    }, 
                    "output_type": "execute_result"
                }
            ], 
            "source": "df"
        }, 
        {
            "execution_count": 44, 
            "cell_type": "code", 
            "metadata": {}, 
            "outputs": [
                {
                    "execution_count": 44, 
                    "metadata": {}, 
                    "data": {
                        "text/plain": "(103, 3)"
                    }, 
                    "output_type": "execute_result"
                }
            ], 
            "source": "df.shape"
        }, 
        {
            "execution_count": null, 
            "cell_type": "code", 
            "metadata": {}, 
            "outputs": [], 
            "source": ""
        }
    ], 
    "metadata": {
        "kernelspec": {
            "display_name": "Python 3.6", 
            "name": "python3", 
            "language": "python"
        }, 
        "language_info": {
            "mimetype": "text/x-python", 
            "nbconvert_exporter": "python", 
            "version": "3.6.8", 
            "name": "python", 
            "file_extension": ".py", 
            "pygments_lexer": "ipython3", 
            "codemirror_mode": {
                "version": 3, 
                "name": "ipython"
            }
        }
    }, 
    "nbformat": 4
}